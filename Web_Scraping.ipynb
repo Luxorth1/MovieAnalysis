{
 "cells": [
  {
   "cell_type": "markdown",
   "metadata": {},
   "source": [
    "# Web Scraping\n",
    "## Scraping our cost data\n",
    "\n",
    "### Our cost data is coming from the following website [Here](https://www.the-numbers.com/movie/budgets/all)"
   ]
  },
  {
   "cell_type": "code",
   "execution_count": 125,
   "metadata": {},
   "outputs": [],
   "source": [
    "from bs4 import BeautifulSoup\n",
    "import requests\n",
    "import time\n",
    "import pandas as pd\n",
    "pd.set_option('display.max_rows', 1000)"
   ]
  },
  {
   "cell_type": "markdown",
   "metadata": {},
   "source": [
    "### We will be scraping cost data in order to pair this with our imdb data sets which were cleaned [Here](Data_Cleaning.ipnyb)\n",
    "\n",
    "This function should return a Pandas DataFrame with cost data by movie name."
   ]
  },
  {
   "cell_type": "code",
   "execution_count": 126,
   "metadata": {
    "scrolled": false
   },
   "outputs": [],
   "source": [
    "aTags = []\n",
    "dataClass = []\n",
    "releaseDate = []\n",
    "movie_Name = []\n",
    "prodBudget = []\n",
    "domesticGross = []\n",
    "worldGross = []\n",
    "movieIndex = []\n",
    "\n",
    "def scrapeData(url):\n",
    "    aTags = []\n",
    "    dataClass = []\n",
    "    releaseDate = []\n",
    "    movie_Name = []\n",
    "    prodBudget = []\n",
    "    domesticGross = []\n",
    "    worldGross = []\n",
    "    movieIndex = []\n",
    "    counter = 0\n",
    "    html_page = requests.get(url)\n",
    "    soup = BeautifulSoup(html_page.content, 'html.parser')\n",
    "    main = soup.find('div', id='page_filling_chart')\n",
    "    center = main.find('center')\n",
    "    table = center.find('table')\n",
    "    tableBody = table.findAll('tr')\n",
    "    for td in tableBody:\n",
    "        data = td.findAll('td', class_='data')\n",
    "        desc = td.findAll('td')\n",
    "        for a in desc:\n",
    "            tag = a.find('a', href=True)\n",
    "            if tag is not None:\n",
    "                aTags.append(tag.text.strip())\n",
    "        for d in data:\n",
    "            dataClass.append(d.text.strip())\n",
    "    for i in list(range(0,len(aTags))):\n",
    "        if i == 0:\n",
    "            releaseDate.append(aTags[i])\n",
    "        elif i%2 == 0:\n",
    "            releaseDate.append(aTags[i])\n",
    "        elif i%2 == 1:\n",
    "            movie_Name.append(aTags[i])\n",
    "    for i in dataClass:\n",
    "        if counter == 0:\n",
    "            movieIndex.append(i)\n",
    "            counter += 1\n",
    "        elif counter == 1:\n",
    "            prodBudget.append(i)\n",
    "            counter += 1\n",
    "        elif counter == 2:\n",
    "            domesticGross.append(i)\n",
    "            counter += 1\n",
    "        elif counter == 3:\n",
    "            worldGross.append(i)\n",
    "            counter = 0\n",
    "    return movieIndex, releaseDate, movie_Name, prodBudget, domesticGross, worldGross\n",
    "#     releaseDate = []\n",
    "#     df = pd.DataFrame([movieIndex, movie_Name, releaseDate, prodBudget, \n",
    "#                        domesticGross, worldGross]).transpose()\n",
    "#     df.columns = ['index', 'movieName', \n",
    "#                  'releaseDate', 'prodBudget',\n",
    "#                  'domesticGross', 'worldGross']\n",
    "    \n",
    "# eventDate = [span.find('time').text.strip() for span in eventListing.findAll('span', style=\"display:none;\")]"
   ]
  },
  {
   "cell_type": "code",
   "execution_count": 127,
   "metadata": {},
   "outputs": [],
   "source": [
    "def enumerate_url(num):\n",
    "    x = 101\n",
    "    urlList = ['https://www.the-numbers.com/movie/budgets/all']\n",
    "    for i in list(range(0,num)):\n",
    "        if i == 0:\n",
    "            urlList.append('https://www.the-numbers.com/movie/budgets/all/{}'.format(x))\n",
    "        else:\n",
    "            x += 100\n",
    "            urlList.append('https://www.the-numbers.com/movie/budgets/all/{}'.format(x))\n",
    "    return urlList       \n"
   ]
  },
  {
   "cell_type": "code",
   "execution_count": 137,
   "metadata": {},
   "outputs": [],
   "source": [
    "def scraper(number):\n",
    "    releaseDateCompile = []\n",
    "    movie_NameCompile = []\n",
    "    prodBudgetCompile = []\n",
    "    domesticGrossCompile = []\n",
    "    worldGrossCompile = []\n",
    "    movieIndexCompile = []\n",
    "    urls = enumerate_url(number)\n",
    "    for url in urls:\n",
    "        movieIndex, releaseDate, movie_Name, prodBudget, domesticGross, worldGross = scrapeData(url)\n",
    "        releaseDateCompile = releaseDateCompile + releaseDate\n",
    "        movie_NameCompile = movie_NameCompile + movie_Name\n",
    "        prodBudgetCompile = prodBudgetCompile + prodBudget\n",
    "        domesticGrossCompile = domesticGrossCompile + domesticGross\n",
    "        worldGrossCompile = worldGrossCompile + worldGross\n",
    "        movieIndexCompile = movieIndexCompile + movieIndex\n",
    "        time.sleep(1.5)\n",
    "    df = pd.DataFrame([movieIndexCompile, movie_NameCompile, releaseDateCompile, prodBudgetCompile, \n",
    "                       domesticGrossCompile, worldGrossCompile]).transpose()\n",
    "    df.columns = ['index', 'movieName', \n",
    "                 'releaseDate', 'prodBudget',\n",
    "                 'domesticGross', 'worldGross']\n",
    "    return df\n",
    "dfBudgetInfo = scraper(200)"
   ]
  },
  {
   "cell_type": "code",
   "execution_count": 142,
   "metadata": {},
   "outputs": [],
   "source": [
    "dfBudgetInfo.to_csv('budgetinfo.csv', index=False)"
   ]
  },
  {
   "cell_type": "code",
   "execution_count": null,
   "metadata": {},
   "outputs": [],
   "source": []
  }
 ],
 "metadata": {
  "kernelspec": {
   "display_name": "Python 3",
   "language": "python",
   "name": "python3"
  },
  "language_info": {
   "codemirror_mode": {
    "name": "ipython",
    "version": 3
   },
   "file_extension": ".py",
   "mimetype": "text/x-python",
   "name": "python",
   "nbconvert_exporter": "python",
   "pygments_lexer": "ipython3",
   "version": "3.7.4"
  }
 },
 "nbformat": 4,
 "nbformat_minor": 2
}
