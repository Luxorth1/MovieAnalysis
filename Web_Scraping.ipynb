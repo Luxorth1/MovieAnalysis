{
 "cells": [
  {
   "cell_type": "markdown",
   "metadata": {},
   "source": [
    "# Web Scraping\n",
    "## Scraping our cost data\n",
    "This notebook will be used to grab cost data from the desired website. From here we will conduct light data cleaning on the set in preparation for combining this with our main movie sets.\n",
    "### Our cost data is coming from the following website [Here](https://www.the-numbers.com/movie/budgets/all)\n",
    "Below we will be importing all necessary packages and ensuring when we preview our DataFrame we are able to see more data."
   ]
  },
  {
   "cell_type": "code",
   "execution_count": 215,
   "metadata": {},
   "outputs": [],
   "source": [
    "from bs4 import BeautifulSoup\n",
    "import requests\n",
    "import time\n",
    "import pandas as pd\n",
    "pd.set_option('display.max_rows', 1000)\n",
    "pd.options.display.float_format = \"{:.2f}\".format"
   ]
  },
  {
   "cell_type": "markdown",
   "metadata": {},
   "source": [
    "### We will be scraping cost data in order to pair this with our imdb data sets which were cleaned [Here](Data_Cleaning.ipnyb)\n",
    "\n",
    "This function should return a series of lists with cost data that will be compiled."
   ]
  },
  {
   "cell_type": "code",
   "execution_count": 126,
   "metadata": {
    "scrolled": false
   },
   "outputs": [],
   "source": [
    "aTags = []\n",
    "dataClass = []\n",
    "releaseDate = []\n",
    "movie_Name = []\n",
    "prodBudget = []\n",
    "domesticGross = []\n",
    "worldGross = []\n",
    "movieIndex = []\n",
    "\n",
    "def scrapeData(url):\n",
    "    aTags = []\n",
    "    dataClass = []\n",
    "    releaseDate = []\n",
    "    movie_Name = []\n",
    "    prodBudget = []\n",
    "    domesticGross = []\n",
    "    worldGross = []\n",
    "    movieIndex = []\n",
    "    counter = 0\n",
    "    html_page = requests.get(url)\n",
    "    soup = BeautifulSoup(html_page.content, 'html.parser')\n",
    "    main = soup.find('div', id='page_filling_chart')\n",
    "    center = main.find('center')\n",
    "    table = center.find('table')\n",
    "    tableBody = table.findAll('tr')\n",
    "    for td in tableBody:\n",
    "        data = td.findAll('td', class_='data')\n",
    "        desc = td.findAll('td')\n",
    "        for a in desc:\n",
    "            tag = a.find('a', href=True)\n",
    "            if tag is not None:\n",
    "                aTags.append(tag.text.strip())\n",
    "        for d in data:\n",
    "            dataClass.append(d.text.strip())\n",
    "    for i in list(range(0,len(aTags))):\n",
    "        if i == 0:\n",
    "            releaseDate.append(aTags[i])\n",
    "        elif i%2 == 0:\n",
    "            releaseDate.append(aTags[i])\n",
    "        elif i%2 == 1:\n",
    "            movie_Name.append(aTags[i])\n",
    "    for i in dataClass:\n",
    "        if counter == 0:\n",
    "            movieIndex.append(i)\n",
    "            counter += 1\n",
    "        elif counter == 1:\n",
    "            prodBudget.append(i)\n",
    "            counter += 1\n",
    "        elif counter == 2:\n",
    "            domesticGross.append(i)\n",
    "            counter += 1\n",
    "        elif counter == 3:\n",
    "            worldGross.append(i)\n",
    "            counter = 0\n",
    "    return movieIndex, releaseDate, movie_Name, prodBudget, domesticGross, worldGross\n",
    "#     releaseDate = []\n",
    "#     df = pd.DataFrame([movieIndex, movie_Name, releaseDate, prodBudget, \n",
    "#                        domesticGross, worldGross]).transpose()\n",
    "#     df.columns = ['index', 'movieName', \n",
    "#                  'releaseDate', 'prodBudget',\n",
    "#                  'domesticGross', 'worldGross']\n",
    "    \n",
    "# eventDate = [span.find('time').text.strip() for span in eventListing.findAll('span', style=\"display:none;\")]"
   ]
  },
  {
   "cell_type": "markdown",
   "metadata": {},
   "source": [
    "### This function fetches the next URL in the web page\n",
    "It turns out all you need to do is change the last number by 100 for each page."
   ]
  },
  {
   "cell_type": "code",
   "execution_count": 127,
   "metadata": {},
   "outputs": [],
   "source": [
    "def enumerate_url(num):\n",
    "    x = 101\n",
    "    urlList = ['https://www.the-numbers.com/movie/budgets/all']\n",
    "    for i in list(range(0,num)):\n",
    "        if i == 0:\n",
    "            urlList.append('https://www.the-numbers.com/movie/budgets/all/{}'.format(x))\n",
    "        else:\n",
    "            x += 100\n",
    "            urlList.append('https://www.the-numbers.com/movie/budgets/all/{}'.format(x))\n",
    "    return urlList       \n"
   ]
  },
  {
   "cell_type": "markdown",
   "metadata": {},
   "source": [
    "### This function combines the first and second function.\n",
    "Here we initialize the script which will be run on the-numbers.com and will grab all of my cost data and place this in a DataFrame. From this DataFrame we will export it to a CSV for further processing."
   ]
  },
  {
   "cell_type": "code",
   "execution_count": 137,
   "metadata": {},
   "outputs": [],
   "source": [
    "def scraper(number):\n",
    "    releaseDateCompile = []\n",
    "    movie_NameCompile = []\n",
    "    prodBudgetCompile = []\n",
    "    domesticGrossCompile = []\n",
    "    worldGrossCompile = []\n",
    "    movieIndexCompile = []\n",
    "    urls = enumerate_url(number)\n",
    "    for url in urls:\n",
    "        movieIndex, releaseDate, movie_Name, prodBudget, domesticGross, worldGross = scrapeData(url)\n",
    "        releaseDateCompile = releaseDateCompile + releaseDate\n",
    "        movie_NameCompile = movie_NameCompile + movie_Name\n",
    "        prodBudgetCompile = prodBudgetCompile + prodBudget\n",
    "        domesticGrossCompile = domesticGrossCompile + domesticGross\n",
    "        worldGrossCompile = worldGrossCompile + worldGross\n",
    "        movieIndexCompile = movieIndexCompile + movieIndex\n",
    "        time.sleep(1.5)\n",
    "    df = pd.DataFrame([movieIndexCompile, movie_NameCompile, releaseDateCompile, prodBudgetCompile, \n",
    "                       domesticGrossCompile, worldGrossCompile]).transpose()\n",
    "    df.columns = ['index', 'movieName', \n",
    "                 'releaseDate', 'prodBudget',\n",
    "                 'domesticGross', 'worldGross']\n",
    "    return df\n",
    "dfBudgetInfo = scraper(200)\n",
    "\n",
    "dfBudgetInfo.to_csv('budgetinfo.csv', index=False)"
   ]
  },
  {
   "cell_type": "markdown",
   "metadata": {},
   "source": [
    "### This section will be used to clean the data scraped from the website.\n",
    "We will be removing movies that have not been released yet, and movies which have 0 cost data."
   ]
  },
  {
   "cell_type": "code",
   "execution_count": 326,
   "metadata": {},
   "outputs": [],
   "source": [
    "df = pd.read_csv('budgetinfo.csv')"
   ]
  },
  {
   "cell_type": "markdown",
   "metadata": {},
   "source": [
    "#### This section of cleaning will be getting our cost data into a more mutable format."
   ]
  },
  {
   "cell_type": "code",
   "execution_count": 327,
   "metadata": {},
   "outputs": [],
   "source": [
    "#remove $ from the data\n",
    "df.prodBudget = [x[1:] for x in df.prodBudget]\n",
    "df.domesticGross = [x[1:] for x in df.domesticGross]\n",
    "df.worldGross = [x[1:] for x in df.worldGross]\n",
    "#remove commas so we can convert into integers\n",
    "df.prodBudget = df.prodBudget.str.replace(',', '')\n",
    "df.domesticGross = df.domesticGross.str.replace(',', '')\n",
    "df.worldGross = df.worldGross.str.replace(',', '')\n",
    "#convert into integers\n",
    "df.prodBudget = df.prodBudget.astype('int64', copy=False)\n",
    "df.domesticGross = df.domesticGross.astype('int64', copy=False)\n",
    "df.worldGross = df.worldGross.astype('int64', copy=False)"
   ]
  },
  {
   "cell_type": "code",
   "execution_count": 328,
   "metadata": {
    "scrolled": false
   },
   "outputs": [
    {
     "data": {
      "text/html": [
       "<div>\n",
       "<style scoped>\n",
       "    .dataframe tbody tr th:only-of-type {\n",
       "        vertical-align: middle;\n",
       "    }\n",
       "\n",
       "    .dataframe tbody tr th {\n",
       "        vertical-align: top;\n",
       "    }\n",
       "\n",
       "    .dataframe thead th {\n",
       "        text-align: right;\n",
       "    }\n",
       "</style>\n",
       "<table border=\"1\" class=\"dataframe\">\n",
       "  <thead>\n",
       "    <tr style=\"text-align: right;\">\n",
       "      <th></th>\n",
       "      <th>index</th>\n",
       "      <th>movieName</th>\n",
       "      <th>releaseDate</th>\n",
       "      <th>prodBudget</th>\n",
       "      <th>domesticGross</th>\n",
       "      <th>worldGross</th>\n",
       "    </tr>\n",
       "  </thead>\n",
       "  <tbody>\n",
       "    <tr>\n",
       "      <td>0</td>\n",
       "      <td>1</td>\n",
       "      <td>Avengers: Endgame</td>\n",
       "      <td>Apr 23, 2019</td>\n",
       "      <td>400000000</td>\n",
       "      <td>858373000</td>\n",
       "      <td>2797800564</td>\n",
       "    </tr>\n",
       "    <tr>\n",
       "      <td>1</td>\n",
       "      <td>2</td>\n",
       "      <td>Pirates of the Caribbean: On Stranger Tides</td>\n",
       "      <td>May 20, 2011</td>\n",
       "      <td>379000000</td>\n",
       "      <td>241063875</td>\n",
       "      <td>1045663875</td>\n",
       "    </tr>\n",
       "    <tr>\n",
       "      <td>2</td>\n",
       "      <td>3</td>\n",
       "      <td>Avengers: Age of Ultron</td>\n",
       "      <td>Apr 22, 2015</td>\n",
       "      <td>365000000</td>\n",
       "      <td>459005868</td>\n",
       "      <td>1403013963</td>\n",
       "    </tr>\n",
       "    <tr>\n",
       "      <td>3</td>\n",
       "      <td>4</td>\n",
       "      <td>Star Wars Ep. VII: The Force Awakens</td>\n",
       "      <td>Dec 16, 2015</td>\n",
       "      <td>306000000</td>\n",
       "      <td>936662225</td>\n",
       "      <td>2068223624</td>\n",
       "    </tr>\n",
       "    <tr>\n",
       "      <td>4</td>\n",
       "      <td>5</td>\n",
       "      <td>Avengers: Infinity War</td>\n",
       "      <td>Apr 25, 2018</td>\n",
       "      <td>300000000</td>\n",
       "      <td>678815482</td>\n",
       "      <td>2048359754</td>\n",
       "    </tr>\n",
       "  </tbody>\n",
       "</table>\n",
       "</div>"
      ],
      "text/plain": [
       "  index                                    movieName   releaseDate  \\\n",
       "0     1                            Avengers: Endgame  Apr 23, 2019   \n",
       "1     2  Pirates of the Caribbean: On Stranger Tides  May 20, 2011   \n",
       "2     3                      Avengers: Age of Ultron  Apr 22, 2015   \n",
       "3     4         Star Wars Ep. VII: The Force Awakens  Dec 16, 2015   \n",
       "4     5                       Avengers: Infinity War  Apr 25, 2018   \n",
       "\n",
       "   prodBudget  domesticGross  worldGross  \n",
       "0   400000000      858373000  2797800564  \n",
       "1   379000000      241063875  1045663875  \n",
       "2   365000000      459005868  1403013963  \n",
       "3   306000000      936662225  2068223624  \n",
       "4   300000000      678815482  2048359754  "
      ]
     },
     "execution_count": 328,
     "metadata": {},
     "output_type": "execute_result"
    }
   ],
   "source": [
    "df.head()"
   ]
  },
  {
   "cell_type": "markdown",
   "metadata": {},
   "source": [
    "#### This section will be utilized for cleaning the dates and dropping and rows with 0 cost, or release dates that have not happened yet."
   ]
  },
  {
   "cell_type": "code",
   "execution_count": 329,
   "metadata": {},
   "outputs": [],
   "source": [
    "#change dates to numbers to convert column into date values\n",
    "df.releaseDate = df.releaseDate.str.replace('Jan', '01')\n",
    "df.releaseDate = df.releaseDate.str.replace('Feb', '02')\n",
    "df.releaseDate = df.releaseDate.str.replace('Mar', '03')\n",
    "df.releaseDate = df.releaseDate.str.replace('Apr', '04')\n",
    "df.releaseDate = df.releaseDate.str.replace('May', '05')\n",
    "df.releaseDate = df.releaseDate.str.replace('Jun', '06')\n",
    "df.releaseDate = df.releaseDate.str.replace('Jul', '07')\n",
    "df.releaseDate = df.releaseDate.str.replace('Aug', '08')\n",
    "df.releaseDate = df.releaseDate.str.replace('Sep', '09')\n",
    "df.releaseDate = df.releaseDate.str.replace('Oct', '10')\n",
    "df.releaseDate = df.releaseDate.str.replace('Nov', '11')\n",
    "df.releaseDate = df.releaseDate.str.replace('Dec', '12')\n",
    "#convert spaces to - and , to no space\n",
    "df.releaseDate = df.releaseDate.str.replace(' ', '/')\n",
    "df.releaseDate = df.releaseDate.str.replace(',', '')\n",
    "df.releaseDate = df.releaseDate.astype('str', copy=False)"
   ]
  },
  {
   "cell_type": "code",
   "execution_count": 330,
   "metadata": {},
   "outputs": [],
   "source": [
    "df['releaseYear'] = df.releaseDate.str.slice(-4,10)"
   ]
  },
  {
   "cell_type": "code",
   "execution_count": 331,
   "metadata": {
    "scrolled": true
   },
   "outputs": [
    {
     "data": {
      "text/html": [
       "<div>\n",
       "<style scoped>\n",
       "    .dataframe tbody tr th:only-of-type {\n",
       "        vertical-align: middle;\n",
       "    }\n",
       "\n",
       "    .dataframe tbody tr th {\n",
       "        vertical-align: top;\n",
       "    }\n",
       "\n",
       "    .dataframe thead th {\n",
       "        text-align: right;\n",
       "    }\n",
       "</style>\n",
       "<table border=\"1\" class=\"dataframe\">\n",
       "  <thead>\n",
       "    <tr style=\"text-align: right;\">\n",
       "      <th></th>\n",
       "      <th>index</th>\n",
       "      <th>movieName</th>\n",
       "      <th>releaseDate</th>\n",
       "      <th>prodBudget</th>\n",
       "      <th>domesticGross</th>\n",
       "      <th>worldGross</th>\n",
       "      <th>releaseYear</th>\n",
       "    </tr>\n",
       "  </thead>\n",
       "  <tbody>\n",
       "    <tr>\n",
       "      <td>0</td>\n",
       "      <td>1</td>\n",
       "      <td>Avengers: Endgame</td>\n",
       "      <td>04/23/2019</td>\n",
       "      <td>400000000</td>\n",
       "      <td>858373000</td>\n",
       "      <td>2797800564</td>\n",
       "      <td>2019</td>\n",
       "    </tr>\n",
       "    <tr>\n",
       "      <td>1</td>\n",
       "      <td>2</td>\n",
       "      <td>Pirates of the Caribbean: On Stranger Tides</td>\n",
       "      <td>05/20/2011</td>\n",
       "      <td>379000000</td>\n",
       "      <td>241063875</td>\n",
       "      <td>1045663875</td>\n",
       "      <td>2011</td>\n",
       "    </tr>\n",
       "    <tr>\n",
       "      <td>2</td>\n",
       "      <td>3</td>\n",
       "      <td>Avengers: Age of Ultron</td>\n",
       "      <td>04/22/2015</td>\n",
       "      <td>365000000</td>\n",
       "      <td>459005868</td>\n",
       "      <td>1403013963</td>\n",
       "      <td>2015</td>\n",
       "    </tr>\n",
       "    <tr>\n",
       "      <td>3</td>\n",
       "      <td>4</td>\n",
       "      <td>Star Wars Ep. VII: The Force Awakens</td>\n",
       "      <td>12/16/2015</td>\n",
       "      <td>306000000</td>\n",
       "      <td>936662225</td>\n",
       "      <td>2068223624</td>\n",
       "      <td>2015</td>\n",
       "    </tr>\n",
       "    <tr>\n",
       "      <td>4</td>\n",
       "      <td>5</td>\n",
       "      <td>Avengers: Infinity War</td>\n",
       "      <td>04/25/2018</td>\n",
       "      <td>300000000</td>\n",
       "      <td>678815482</td>\n",
       "      <td>2048359754</td>\n",
       "      <td>2018</td>\n",
       "    </tr>\n",
       "  </tbody>\n",
       "</table>\n",
       "</div>"
      ],
      "text/plain": [
       "  index                                    movieName releaseDate  prodBudget  \\\n",
       "0     1                            Avengers: Endgame  04/23/2019   400000000   \n",
       "1     2  Pirates of the Caribbean: On Stranger Tides  05/20/2011   379000000   \n",
       "2     3                      Avengers: Age of Ultron  04/22/2015   365000000   \n",
       "3     4         Star Wars Ep. VII: The Force Awakens  12/16/2015   306000000   \n",
       "4     5                       Avengers: Infinity War  04/25/2018   300000000   \n",
       "\n",
       "   domesticGross  worldGross releaseYear  \n",
       "0      858373000  2797800564        2019  \n",
       "1      241063875  1045663875        2011  \n",
       "2      459005868  1403013963        2015  \n",
       "3      936662225  2068223624        2015  \n",
       "4      678815482  2048359754        2018  "
      ]
     },
     "execution_count": 331,
     "metadata": {},
     "output_type": "execute_result"
    }
   ],
   "source": [
    "df.head()"
   ]
  },
  {
   "cell_type": "code",
   "execution_count": 332,
   "metadata": {},
   "outputs": [],
   "source": [
    "df['releaseYear'] = df.releaseYear.str.slice(-4,10)"
   ]
  },
  {
   "cell_type": "code",
   "execution_count": 333,
   "metadata": {},
   "outputs": [],
   "source": [
    "df = df[df['releaseYear'] != 'nown']"
   ]
  },
  {
   "cell_type": "code",
   "execution_count": 334,
   "metadata": {},
   "outputs": [
    {
     "data": {
      "text/plain": [
       "array(['2019', '2011', '2015', '2018', '2007', '2017', '2012', '2016',\n",
       "       '2010', '2009', '2013', '2014', '2020', '2006', '2008', '2005',\n",
       "       '1997', '2004', '1999', '1995', '2003', '2001', '2002', '1998',\n",
       "       '2000', '1991', '1994', '1996', '1993', '1992', '2021', '1988',\n",
       "       '1990', '1989', '1978', '1981', '1984', '1982', '1985', '1980',\n",
       "       '1963', '1987', '1986', '2022', '1983', '1979', '1977', '1970',\n",
       "       '1969', '1976', '1965', '1962', '1964', '1959', '1966', '1974',\n",
       "       '1956', '1975', '1973', '1960', '1967', '1968', '1971', '1951',\n",
       "       '1972', '1961', '1946', '1944', '1953', '1954', '1957', '1952',\n",
       "       '1930', '1939', '1925', '1950', '1948', '1958', '1943', '1940',\n",
       "       '1945', '1947', '1938', '1927', '1949', '1955', '1936', '1937',\n",
       "       '1941', '1942', '1933', '1935', '1931', '1916', '1929', '1934',\n",
       "       '1915', '1920'], dtype=object)"
      ]
     },
     "execution_count": 334,
     "metadata": {},
     "output_type": "execute_result"
    }
   ],
   "source": [
    "df.releaseYear.unique()"
   ]
  },
  {
   "cell_type": "code",
   "execution_count": 335,
   "metadata": {},
   "outputs": [],
   "source": [
    "df['releaseYear'] = df['releaseYear'].astype('str', copy=False).astype('int64', copy=False)"
   ]
  },
  {
   "cell_type": "code",
   "execution_count": 336,
   "metadata": {},
   "outputs": [
    {
     "name": "stdout",
     "output_type": "stream",
     "text": [
      "index            object\n",
      "movieName        object\n",
      "releaseDate      object\n",
      "prodBudget        int64\n",
      "domesticGross     int64\n",
      "worldGross        int64\n",
      "releaseYear       int64\n",
      "dtype: object\n"
     ]
    }
   ],
   "source": [
    "print(df.dtypes)"
   ]
  },
  {
   "cell_type": "code",
   "execution_count": 337,
   "metadata": {},
   "outputs": [],
   "source": [
    "df = df[(df['releaseYear'] >= 2005) & (df['releaseYear'] <= 2020)]"
   ]
  },
  {
   "cell_type": "code",
   "execution_count": 338,
   "metadata": {},
   "outputs": [
    {
     "data": {
      "text/plain": [
       "array([2019, 2011, 2015, 2018, 2007, 2017, 2012, 2016, 2010, 2009, 2013,\n",
       "       2014, 2020, 2006, 2008, 2005])"
      ]
     },
     "execution_count": 338,
     "metadata": {},
     "output_type": "execute_result"
    }
   ],
   "source": [
    "df.releaseYear.unique()"
   ]
  },
  {
   "cell_type": "code",
   "execution_count": 339,
   "metadata": {},
   "outputs": [
    {
     "data": {
      "text/plain": [
       "3513"
      ]
     },
     "execution_count": 339,
     "metadata": {},
     "output_type": "execute_result"
    }
   ],
   "source": [
    "len(df)"
   ]
  },
  {
   "cell_type": "code",
   "execution_count": 340,
   "metadata": {},
   "outputs": [],
   "source": [
    "df['estimateAdCost'] = df.apply(lambda x: x.prodBudget/2, axis=1)"
   ]
  },
  {
   "cell_type": "code",
   "execution_count": 341,
   "metadata": {},
   "outputs": [
    {
     "data": {
      "text/html": [
       "<div>\n",
       "<style scoped>\n",
       "    .dataframe tbody tr th:only-of-type {\n",
       "        vertical-align: middle;\n",
       "    }\n",
       "\n",
       "    .dataframe tbody tr th {\n",
       "        vertical-align: top;\n",
       "    }\n",
       "\n",
       "    .dataframe thead th {\n",
       "        text-align: right;\n",
       "    }\n",
       "</style>\n",
       "<table border=\"1\" class=\"dataframe\">\n",
       "  <thead>\n",
       "    <tr style=\"text-align: right;\">\n",
       "      <th></th>\n",
       "      <th>index</th>\n",
       "      <th>movieName</th>\n",
       "      <th>releaseDate</th>\n",
       "      <th>prodBudget</th>\n",
       "      <th>domesticGross</th>\n",
       "      <th>worldGross</th>\n",
       "      <th>releaseYear</th>\n",
       "      <th>estimateAdCost</th>\n",
       "    </tr>\n",
       "  </thead>\n",
       "  <tbody>\n",
       "    <tr>\n",
       "      <td>0</td>\n",
       "      <td>1</td>\n",
       "      <td>Avengers: Endgame</td>\n",
       "      <td>04/23/2019</td>\n",
       "      <td>400000000</td>\n",
       "      <td>858373000</td>\n",
       "      <td>2797800564</td>\n",
       "      <td>2019</td>\n",
       "      <td>200000000.00</td>\n",
       "    </tr>\n",
       "    <tr>\n",
       "      <td>1</td>\n",
       "      <td>2</td>\n",
       "      <td>Pirates of the Caribbean: On Stranger Tides</td>\n",
       "      <td>05/20/2011</td>\n",
       "      <td>379000000</td>\n",
       "      <td>241063875</td>\n",
       "      <td>1045663875</td>\n",
       "      <td>2011</td>\n",
       "      <td>189500000.00</td>\n",
       "    </tr>\n",
       "    <tr>\n",
       "      <td>2</td>\n",
       "      <td>3</td>\n",
       "      <td>Avengers: Age of Ultron</td>\n",
       "      <td>04/22/2015</td>\n",
       "      <td>365000000</td>\n",
       "      <td>459005868</td>\n",
       "      <td>1403013963</td>\n",
       "      <td>2015</td>\n",
       "      <td>182500000.00</td>\n",
       "    </tr>\n",
       "    <tr>\n",
       "      <td>3</td>\n",
       "      <td>4</td>\n",
       "      <td>Star Wars Ep. VII: The Force Awakens</td>\n",
       "      <td>12/16/2015</td>\n",
       "      <td>306000000</td>\n",
       "      <td>936662225</td>\n",
       "      <td>2068223624</td>\n",
       "      <td>2015</td>\n",
       "      <td>153000000.00</td>\n",
       "    </tr>\n",
       "    <tr>\n",
       "      <td>4</td>\n",
       "      <td>5</td>\n",
       "      <td>Avengers: Infinity War</td>\n",
       "      <td>04/25/2018</td>\n",
       "      <td>300000000</td>\n",
       "      <td>678815482</td>\n",
       "      <td>2048359754</td>\n",
       "      <td>2018</td>\n",
       "      <td>150000000.00</td>\n",
       "    </tr>\n",
       "  </tbody>\n",
       "</table>\n",
       "</div>"
      ],
      "text/plain": [
       "  index                                    movieName releaseDate  prodBudget  \\\n",
       "0     1                            Avengers: Endgame  04/23/2019   400000000   \n",
       "1     2  Pirates of the Caribbean: On Stranger Tides  05/20/2011   379000000   \n",
       "2     3                      Avengers: Age of Ultron  04/22/2015   365000000   \n",
       "3     4         Star Wars Ep. VII: The Force Awakens  12/16/2015   306000000   \n",
       "4     5                       Avengers: Infinity War  04/25/2018   300000000   \n",
       "\n",
       "   domesticGross  worldGross  releaseYear  estimateAdCost  \n",
       "0      858373000  2797800564         2019    200000000.00  \n",
       "1      241063875  1045663875         2011    189500000.00  \n",
       "2      459005868  1403013963         2015    182500000.00  \n",
       "3      936662225  2068223624         2015    153000000.00  \n",
       "4      678815482  2048359754         2018    150000000.00  "
      ]
     },
     "execution_count": 341,
     "metadata": {},
     "output_type": "execute_result"
    }
   ],
   "source": [
    "df.head()"
   ]
  },
  {
   "cell_type": "code",
   "execution_count": 342,
   "metadata": {},
   "outputs": [],
   "source": [
    "df['estimatedProfit'] = df.worldGross - (df.prodBudget + df.estimateAdCost)"
   ]
  },
  {
   "cell_type": "code",
   "execution_count": 343,
   "metadata": {},
   "outputs": [
    {
     "data": {
      "text/html": [
       "<div>\n",
       "<style scoped>\n",
       "    .dataframe tbody tr th:only-of-type {\n",
       "        vertical-align: middle;\n",
       "    }\n",
       "\n",
       "    .dataframe tbody tr th {\n",
       "        vertical-align: top;\n",
       "    }\n",
       "\n",
       "    .dataframe thead th {\n",
       "        text-align: right;\n",
       "    }\n",
       "</style>\n",
       "<table border=\"1\" class=\"dataframe\">\n",
       "  <thead>\n",
       "    <tr style=\"text-align: right;\">\n",
       "      <th></th>\n",
       "      <th>index</th>\n",
       "      <th>movieName</th>\n",
       "      <th>releaseDate</th>\n",
       "      <th>prodBudget</th>\n",
       "      <th>domesticGross</th>\n",
       "      <th>worldGross</th>\n",
       "      <th>releaseYear</th>\n",
       "      <th>estimateAdCost</th>\n",
       "      <th>estimatedProfit</th>\n",
       "    </tr>\n",
       "  </thead>\n",
       "  <tbody>\n",
       "    <tr>\n",
       "      <td>0</td>\n",
       "      <td>1</td>\n",
       "      <td>Avengers: Endgame</td>\n",
       "      <td>04/23/2019</td>\n",
       "      <td>400000000</td>\n",
       "      <td>858373000</td>\n",
       "      <td>2797800564</td>\n",
       "      <td>2019</td>\n",
       "      <td>200000000.00</td>\n",
       "      <td>2197800564.00</td>\n",
       "    </tr>\n",
       "    <tr>\n",
       "      <td>1</td>\n",
       "      <td>2</td>\n",
       "      <td>Pirates of the Caribbean: On Stranger Tides</td>\n",
       "      <td>05/20/2011</td>\n",
       "      <td>379000000</td>\n",
       "      <td>241063875</td>\n",
       "      <td>1045663875</td>\n",
       "      <td>2011</td>\n",
       "      <td>189500000.00</td>\n",
       "      <td>477163875.00</td>\n",
       "    </tr>\n",
       "    <tr>\n",
       "      <td>2</td>\n",
       "      <td>3</td>\n",
       "      <td>Avengers: Age of Ultron</td>\n",
       "      <td>04/22/2015</td>\n",
       "      <td>365000000</td>\n",
       "      <td>459005868</td>\n",
       "      <td>1403013963</td>\n",
       "      <td>2015</td>\n",
       "      <td>182500000.00</td>\n",
       "      <td>855513963.00</td>\n",
       "    </tr>\n",
       "    <tr>\n",
       "      <td>3</td>\n",
       "      <td>4</td>\n",
       "      <td>Star Wars Ep. VII: The Force Awakens</td>\n",
       "      <td>12/16/2015</td>\n",
       "      <td>306000000</td>\n",
       "      <td>936662225</td>\n",
       "      <td>2068223624</td>\n",
       "      <td>2015</td>\n",
       "      <td>153000000.00</td>\n",
       "      <td>1609223624.00</td>\n",
       "    </tr>\n",
       "    <tr>\n",
       "      <td>4</td>\n",
       "      <td>5</td>\n",
       "      <td>Avengers: Infinity War</td>\n",
       "      <td>04/25/2018</td>\n",
       "      <td>300000000</td>\n",
       "      <td>678815482</td>\n",
       "      <td>2048359754</td>\n",
       "      <td>2018</td>\n",
       "      <td>150000000.00</td>\n",
       "      <td>1598359754.00</td>\n",
       "    </tr>\n",
       "  </tbody>\n",
       "</table>\n",
       "</div>"
      ],
      "text/plain": [
       "  index                                    movieName releaseDate  prodBudget  \\\n",
       "0     1                            Avengers: Endgame  04/23/2019   400000000   \n",
       "1     2  Pirates of the Caribbean: On Stranger Tides  05/20/2011   379000000   \n",
       "2     3                      Avengers: Age of Ultron  04/22/2015   365000000   \n",
       "3     4         Star Wars Ep. VII: The Force Awakens  12/16/2015   306000000   \n",
       "4     5                       Avengers: Infinity War  04/25/2018   300000000   \n",
       "\n",
       "   domesticGross  worldGross  releaseYear  estimateAdCost  estimatedProfit  \n",
       "0      858373000  2797800564         2019    200000000.00    2197800564.00  \n",
       "1      241063875  1045663875         2011    189500000.00     477163875.00  \n",
       "2      459005868  1403013963         2015    182500000.00     855513963.00  \n",
       "3      936662225  2068223624         2015    153000000.00    1609223624.00  \n",
       "4      678815482  2048359754         2018    150000000.00    1598359754.00  "
      ]
     },
     "execution_count": 343,
     "metadata": {},
     "output_type": "execute_result"
    }
   ],
   "source": [
    "df.head()"
   ]
  },
  {
   "cell_type": "code",
   "execution_count": 344,
   "metadata": {},
   "outputs": [],
   "source": [
    "df['releaseMonth'] = df.releaseDate.str.slice(0,2)"
   ]
  },
  {
   "cell_type": "code",
   "execution_count": 345,
   "metadata": {},
   "outputs": [],
   "source": [
    "df['releaseMonth'] = df.releaseMonth.astype('str', copy=False).astype('int32', copy=False)"
   ]
  },
  {
   "cell_type": "code",
   "execution_count": 346,
   "metadata": {},
   "outputs": [
    {
     "name": "stdout",
     "output_type": "stream",
     "text": [
      "index               object\n",
      "movieName           object\n",
      "releaseDate         object\n",
      "prodBudget           int64\n",
      "domesticGross        int64\n",
      "worldGross           int64\n",
      "releaseYear          int64\n",
      "estimateAdCost     float64\n",
      "estimatedProfit    float64\n",
      "releaseMonth         int32\n",
      "dtype: object\n"
     ]
    }
   ],
   "source": [
    "print(df.dtypes)"
   ]
  },
  {
   "cell_type": "code",
   "execution_count": 347,
   "metadata": {},
   "outputs": [],
   "source": [
    "df.loc[(df['releaseMonth'] >= 3) & (df['releaseMonth'] <=5), 'releaseSeason'] = 'Spring'\n",
    "\n",
    "# df.loc[df['set_of_numbers'] <= 4, 'equal_or_lower_than_4?'] = 'True'"
   ]
  },
  {
   "cell_type": "code",
   "execution_count": 380,
   "metadata": {},
   "outputs": [],
   "source": [
    "for x in df.releaseMonth:\n",
    "    if x >= 3 and x<=5:\n",
    "        df['releaseMonth'] = \n",
    "\n",
    "# df['releaseSeason'] = df['releaseMonth'].apply(lambda x: 'Fall' if (x >= 9 and x <= 11) else 'None')\n",
    "# df['releaseSeason'] = df['releaseMonth'].apply(lambda x: 'Summer' if (x != 'Fall' and x =='None' and  != 'Spring' and x >=6 and x<=8) else continue)\n",
    "# df['releaseSeason'] = df['releaseMonth'].apply(lambda x: 'Winter' if (x == 'None' or x >=9) else continue)\n",
    "# df['equal_or_lower_than_4?'] = df['set_of_numbers'].apply(lambda x: 'True' if x <= 4 else 'False')\n"
   ]
  },
  {
   "cell_type": "code",
   "execution_count": 381,
   "metadata": {},
   "outputs": [],
   "source": [
    "# df['releaseSeason'] = df['releaseMonth'].apply(lambda x: 'Spring' if (x != 'Fall' and x == 'None' and x >=3 and x<=5) else 'None')\n"
   ]
  },
  {
   "cell_type": "code",
   "execution_count": 374,
   "metadata": {},
   "outputs": [],
   "source": [
    "# df['releaseSeason'] = df['releaseMonth'].apply(lambda x: 'Summer' if (x != 'Fall' and x =='None' and  x != 'Spring' and x >=6 and x<=8) else x)\n"
   ]
  },
  {
   "cell_type": "code",
   "execution_count": 377,
   "metadata": {},
   "outputs": [
    {
     "ename": "AttributeError",
     "evalue": "'builtin_function_or_method' object has no attribute 'get_indexer'",
     "output_type": "error",
     "traceback": [
      "\u001b[0;31m---------------------------------------------------------------------------\u001b[0m",
      "\u001b[0;31mAttributeError\u001b[0m                            Traceback (most recent call last)",
      "\u001b[0;32m<ipython-input-377-57d27e0f56bc>\u001b[0m in \u001b[0;36m<module>\u001b[0;34m\u001b[0m\n\u001b[0;32m----> 1\u001b[0;31m \u001b[0mdf\u001b[0m\u001b[0;34m[\u001b[0m\u001b[0;34m'releaseSeason'\u001b[0m\u001b[0;34m]\u001b[0m \u001b[0;34m=\u001b[0m \u001b[0mdf\u001b[0m\u001b[0;34m[\u001b[0m\u001b[0;34m'releaseMonth'\u001b[0m\u001b[0;34m]\u001b[0m\u001b[0;34m.\u001b[0m\u001b[0mapply\u001b[0m\u001b[0;34m(\u001b[0m\u001b[0;32mlambda\u001b[0m \u001b[0mx\u001b[0m\u001b[0;34m:\u001b[0m \u001b[0;34m'Winter'\u001b[0m \u001b[0;32mif\u001b[0m \u001b[0;34m(\u001b[0m\u001b[0mx\u001b[0m \u001b[0;34m==\u001b[0m \u001b[0;34m'None'\u001b[0m \u001b[0;32mor\u001b[0m \u001b[0mx\u001b[0m \u001b[0;34m>=\u001b[0m\u001b[0;36m9\u001b[0m \u001b[0;32mand\u001b[0m \u001b[0mx\u001b[0m\u001b[0;34m<=\u001b[0m \u001b[0;36m12\u001b[0m\u001b[0;34m)\u001b[0m \u001b[0;32melse\u001b[0m \u001b[0mdf\u001b[0m\u001b[0;34m.\u001b[0m\u001b[0mreleaseSeason\u001b[0m\u001b[0;34m)\u001b[0m\u001b[0;34m\u001b[0m\u001b[0;34m\u001b[0m\u001b[0m\n\u001b[0m",
      "\u001b[0;32m~/anaconda3/lib/python3.7/site-packages/pandas/core/series.py\u001b[0m in \u001b[0;36mapply\u001b[0;34m(self, func, convert_dtype, args, **kwds)\u001b[0m\n\u001b[1;32m   4045\u001b[0m             \u001b[0;31m# GH 25959 use pd.array instead of tolist\u001b[0m\u001b[0;34m\u001b[0m\u001b[0;34m\u001b[0m\u001b[0;34m\u001b[0m\u001b[0m\n\u001b[1;32m   4046\u001b[0m             \u001b[0;31m# so extension arrays can be used\u001b[0m\u001b[0;34m\u001b[0m\u001b[0;34m\u001b[0m\u001b[0;34m\u001b[0m\u001b[0m\n\u001b[0;32m-> 4047\u001b[0;31m             \u001b[0;32mreturn\u001b[0m \u001b[0mself\u001b[0m\u001b[0;34m.\u001b[0m\u001b[0m_constructor_expanddim\u001b[0m\u001b[0;34m(\u001b[0m\u001b[0mpd\u001b[0m\u001b[0;34m.\u001b[0m\u001b[0marray\u001b[0m\u001b[0;34m(\u001b[0m\u001b[0mmapped\u001b[0m\u001b[0;34m)\u001b[0m\u001b[0;34m,\u001b[0m \u001b[0mindex\u001b[0m\u001b[0;34m=\u001b[0m\u001b[0mself\u001b[0m\u001b[0;34m.\u001b[0m\u001b[0mindex\u001b[0m\u001b[0;34m)\u001b[0m\u001b[0;34m\u001b[0m\u001b[0;34m\u001b[0m\u001b[0m\n\u001b[0m\u001b[1;32m   4048\u001b[0m         \u001b[0;32melse\u001b[0m\u001b[0;34m:\u001b[0m\u001b[0;34m\u001b[0m\u001b[0;34m\u001b[0m\u001b[0m\n\u001b[1;32m   4049\u001b[0m             \u001b[0;32mreturn\u001b[0m \u001b[0mself\u001b[0m\u001b[0;34m.\u001b[0m\u001b[0m_constructor\u001b[0m\u001b[0;34m(\u001b[0m\u001b[0mmapped\u001b[0m\u001b[0;34m,\u001b[0m \u001b[0mindex\u001b[0m\u001b[0;34m=\u001b[0m\u001b[0mself\u001b[0m\u001b[0;34m.\u001b[0m\u001b[0mindex\u001b[0m\u001b[0;34m)\u001b[0m\u001b[0;34m.\u001b[0m\u001b[0m__finalize__\u001b[0m\u001b[0;34m(\u001b[0m\u001b[0mself\u001b[0m\u001b[0;34m)\u001b[0m\u001b[0;34m\u001b[0m\u001b[0;34m\u001b[0m\u001b[0m\n",
      "\u001b[0;32m~/anaconda3/lib/python3.7/site-packages/pandas/core/frame.py\u001b[0m in \u001b[0;36m__init__\u001b[0;34m(self, data, index, columns, dtype, copy)\u001b[0m\n\u001b[1;32m    448\u001b[0m                     \u001b[0;32mif\u001b[0m \u001b[0mis_named_tuple\u001b[0m\u001b[0;34m(\u001b[0m\u001b[0mdata\u001b[0m\u001b[0;34m[\u001b[0m\u001b[0;36m0\u001b[0m\u001b[0;34m]\u001b[0m\u001b[0;34m)\u001b[0m \u001b[0;32mand\u001b[0m \u001b[0mcolumns\u001b[0m \u001b[0;32mis\u001b[0m \u001b[0;32mNone\u001b[0m\u001b[0;34m:\u001b[0m\u001b[0;34m\u001b[0m\u001b[0;34m\u001b[0m\u001b[0m\n\u001b[1;32m    449\u001b[0m                         \u001b[0mcolumns\u001b[0m \u001b[0;34m=\u001b[0m \u001b[0mdata\u001b[0m\u001b[0;34m[\u001b[0m\u001b[0;36m0\u001b[0m\u001b[0;34m]\u001b[0m\u001b[0;34m.\u001b[0m\u001b[0m_fields\u001b[0m\u001b[0;34m\u001b[0m\u001b[0;34m\u001b[0m\u001b[0m\n\u001b[0;32m--> 450\u001b[0;31m                     \u001b[0marrays\u001b[0m\u001b[0;34m,\u001b[0m \u001b[0mcolumns\u001b[0m \u001b[0;34m=\u001b[0m \u001b[0mto_arrays\u001b[0m\u001b[0;34m(\u001b[0m\u001b[0mdata\u001b[0m\u001b[0;34m,\u001b[0m \u001b[0mcolumns\u001b[0m\u001b[0;34m,\u001b[0m \u001b[0mdtype\u001b[0m\u001b[0;34m=\u001b[0m\u001b[0mdtype\u001b[0m\u001b[0;34m)\u001b[0m\u001b[0;34m\u001b[0m\u001b[0;34m\u001b[0m\u001b[0m\n\u001b[0m\u001b[1;32m    451\u001b[0m                     \u001b[0mcolumns\u001b[0m \u001b[0;34m=\u001b[0m \u001b[0mensure_index\u001b[0m\u001b[0;34m(\u001b[0m\u001b[0mcolumns\u001b[0m\u001b[0;34m)\u001b[0m\u001b[0;34m\u001b[0m\u001b[0;34m\u001b[0m\u001b[0m\n\u001b[1;32m    452\u001b[0m \u001b[0;34m\u001b[0m\u001b[0m\n",
      "\u001b[0;32m~/anaconda3/lib/python3.7/site-packages/pandas/core/internals/construction.py\u001b[0m in \u001b[0;36mto_arrays\u001b[0;34m(data, columns, coerce_float, dtype)\u001b[0m\n\u001b[1;32m    469\u001b[0m     \u001b[0;32melif\u001b[0m \u001b[0misinstance\u001b[0m\u001b[0;34m(\u001b[0m\u001b[0mdata\u001b[0m\u001b[0;34m[\u001b[0m\u001b[0;36m0\u001b[0m\u001b[0;34m]\u001b[0m\u001b[0;34m,\u001b[0m \u001b[0mABCSeries\u001b[0m\u001b[0;34m)\u001b[0m\u001b[0;34m:\u001b[0m\u001b[0;34m\u001b[0m\u001b[0;34m\u001b[0m\u001b[0m\n\u001b[1;32m    470\u001b[0m         return _list_of_series_to_arrays(\n\u001b[0;32m--> 471\u001b[0;31m             \u001b[0mdata\u001b[0m\u001b[0;34m,\u001b[0m \u001b[0mcolumns\u001b[0m\u001b[0;34m,\u001b[0m \u001b[0mcoerce_float\u001b[0m\u001b[0;34m=\u001b[0m\u001b[0mcoerce_float\u001b[0m\u001b[0;34m,\u001b[0m \u001b[0mdtype\u001b[0m\u001b[0;34m=\u001b[0m\u001b[0mdtype\u001b[0m\u001b[0;34m\u001b[0m\u001b[0;34m\u001b[0m\u001b[0m\n\u001b[0m\u001b[1;32m    472\u001b[0m         )\n\u001b[1;32m    473\u001b[0m     \u001b[0;32melif\u001b[0m \u001b[0misinstance\u001b[0m\u001b[0;34m(\u001b[0m\u001b[0mdata\u001b[0m\u001b[0;34m[\u001b[0m\u001b[0;36m0\u001b[0m\u001b[0;34m]\u001b[0m\u001b[0;34m,\u001b[0m \u001b[0mCategorical\u001b[0m\u001b[0;34m)\u001b[0m\u001b[0;34m:\u001b[0m\u001b[0;34m\u001b[0m\u001b[0;34m\u001b[0m\u001b[0m\n",
      "\u001b[0;32m~/anaconda3/lib/python3.7/site-packages/pandas/core/internals/construction.py\u001b[0m in \u001b[0;36m_list_of_series_to_arrays\u001b[0;34m(data, columns, coerce_float, dtype)\u001b[0m\n\u001b[1;32m    520\u001b[0m             \u001b[0mindexer\u001b[0m \u001b[0;34m=\u001b[0m \u001b[0mindexer_cache\u001b[0m\u001b[0;34m[\u001b[0m\u001b[0mid\u001b[0m\u001b[0;34m(\u001b[0m\u001b[0mindex\u001b[0m\u001b[0;34m)\u001b[0m\u001b[0;34m]\u001b[0m\u001b[0;34m\u001b[0m\u001b[0;34m\u001b[0m\u001b[0m\n\u001b[1;32m    521\u001b[0m         \u001b[0;32melse\u001b[0m\u001b[0;34m:\u001b[0m\u001b[0;34m\u001b[0m\u001b[0;34m\u001b[0m\u001b[0m\n\u001b[0;32m--> 522\u001b[0;31m             \u001b[0mindexer\u001b[0m \u001b[0;34m=\u001b[0m \u001b[0mindexer_cache\u001b[0m\u001b[0;34m[\u001b[0m\u001b[0mid\u001b[0m\u001b[0;34m(\u001b[0m\u001b[0mindex\u001b[0m\u001b[0;34m)\u001b[0m\u001b[0;34m]\u001b[0m \u001b[0;34m=\u001b[0m \u001b[0mindex\u001b[0m\u001b[0;34m.\u001b[0m\u001b[0mget_indexer\u001b[0m\u001b[0;34m(\u001b[0m\u001b[0mcolumns\u001b[0m\u001b[0;34m)\u001b[0m\u001b[0;34m\u001b[0m\u001b[0;34m\u001b[0m\u001b[0m\n\u001b[0m\u001b[1;32m    523\u001b[0m \u001b[0;34m\u001b[0m\u001b[0m\n\u001b[1;32m    524\u001b[0m         \u001b[0mvalues\u001b[0m \u001b[0;34m=\u001b[0m \u001b[0mcom\u001b[0m\u001b[0;34m.\u001b[0m\u001b[0mvalues_from_object\u001b[0m\u001b[0;34m(\u001b[0m\u001b[0ms\u001b[0m\u001b[0;34m)\u001b[0m\u001b[0;34m\u001b[0m\u001b[0;34m\u001b[0m\u001b[0m\n",
      "\u001b[0;31mAttributeError\u001b[0m: 'builtin_function_or_method' object has no attribute 'get_indexer'"
     ]
    }
   ],
   "source": [
    "# df['releaseSeason'] = df['releaseMonth'].apply(lambda x: 'Winter' if (x == 'None' or x >=9 and x<= 12) else )\n"
   ]
  },
  {
   "cell_type": "code",
   "execution_count": 382,
   "metadata": {},
   "outputs": [
    {
     "data": {
      "text/html": [
       "<div>\n",
       "<style scoped>\n",
       "    .dataframe tbody tr th:only-of-type {\n",
       "        vertical-align: middle;\n",
       "    }\n",
       "\n",
       "    .dataframe tbody tr th {\n",
       "        vertical-align: top;\n",
       "    }\n",
       "\n",
       "    .dataframe thead th {\n",
       "        text-align: right;\n",
       "    }\n",
       "</style>\n",
       "<table border=\"1\" class=\"dataframe\">\n",
       "  <thead>\n",
       "    <tr style=\"text-align: right;\">\n",
       "      <th></th>\n",
       "      <th>index</th>\n",
       "      <th>movieName</th>\n",
       "      <th>releaseDate</th>\n",
       "      <th>prodBudget</th>\n",
       "      <th>domesticGross</th>\n",
       "      <th>worldGross</th>\n",
       "      <th>releaseYear</th>\n",
       "      <th>estimateAdCost</th>\n",
       "      <th>estimatedProfit</th>\n",
       "      <th>releaseMonth</th>\n",
       "      <th>releaseSeason</th>\n",
       "    </tr>\n",
       "  </thead>\n",
       "  <tbody>\n",
       "    <tr>\n",
       "      <td>0</td>\n",
       "      <td>1</td>\n",
       "      <td>Avengers: Endgame</td>\n",
       "      <td>04/23/2019</td>\n",
       "      <td>400000000</td>\n",
       "      <td>858373000</td>\n",
       "      <td>2797800564</td>\n",
       "      <td>2019</td>\n",
       "      <td>200000000.00</td>\n",
       "      <td>2197800564.00</td>\n",
       "      <td>4</td>\n",
       "      <td>None</td>\n",
       "    </tr>\n",
       "    <tr>\n",
       "      <td>1</td>\n",
       "      <td>2</td>\n",
       "      <td>Pirates of the Caribbean: On Stranger Tides</td>\n",
       "      <td>05/20/2011</td>\n",
       "      <td>379000000</td>\n",
       "      <td>241063875</td>\n",
       "      <td>1045663875</td>\n",
       "      <td>2011</td>\n",
       "      <td>189500000.00</td>\n",
       "      <td>477163875.00</td>\n",
       "      <td>5</td>\n",
       "      <td>None</td>\n",
       "    </tr>\n",
       "    <tr>\n",
       "      <td>2</td>\n",
       "      <td>3</td>\n",
       "      <td>Avengers: Age of Ultron</td>\n",
       "      <td>04/22/2015</td>\n",
       "      <td>365000000</td>\n",
       "      <td>459005868</td>\n",
       "      <td>1403013963</td>\n",
       "      <td>2015</td>\n",
       "      <td>182500000.00</td>\n",
       "      <td>855513963.00</td>\n",
       "      <td>4</td>\n",
       "      <td>None</td>\n",
       "    </tr>\n",
       "    <tr>\n",
       "      <td>3</td>\n",
       "      <td>4</td>\n",
       "      <td>Star Wars Ep. VII: The Force Awakens</td>\n",
       "      <td>12/16/2015</td>\n",
       "      <td>306000000</td>\n",
       "      <td>936662225</td>\n",
       "      <td>2068223624</td>\n",
       "      <td>2015</td>\n",
       "      <td>153000000.00</td>\n",
       "      <td>1609223624.00</td>\n",
       "      <td>12</td>\n",
       "      <td>None</td>\n",
       "    </tr>\n",
       "    <tr>\n",
       "      <td>4</td>\n",
       "      <td>5</td>\n",
       "      <td>Avengers: Infinity War</td>\n",
       "      <td>04/25/2018</td>\n",
       "      <td>300000000</td>\n",
       "      <td>678815482</td>\n",
       "      <td>2048359754</td>\n",
       "      <td>2018</td>\n",
       "      <td>150000000.00</td>\n",
       "      <td>1598359754.00</td>\n",
       "      <td>4</td>\n",
       "      <td>None</td>\n",
       "    </tr>\n",
       "  </tbody>\n",
       "</table>\n",
       "</div>"
      ],
      "text/plain": [
       "  index                                    movieName releaseDate  prodBudget  \\\n",
       "0     1                            Avengers: Endgame  04/23/2019   400000000   \n",
       "1     2  Pirates of the Caribbean: On Stranger Tides  05/20/2011   379000000   \n",
       "2     3                      Avengers: Age of Ultron  04/22/2015   365000000   \n",
       "3     4         Star Wars Ep. VII: The Force Awakens  12/16/2015   306000000   \n",
       "4     5                       Avengers: Infinity War  04/25/2018   300000000   \n",
       "\n",
       "   domesticGross  worldGross  releaseYear  estimateAdCost  estimatedProfit  \\\n",
       "0      858373000  2797800564         2019    200000000.00    2197800564.00   \n",
       "1      241063875  1045663875         2011    189500000.00     477163875.00   \n",
       "2      459005868  1403013963         2015    182500000.00     855513963.00   \n",
       "3      936662225  2068223624         2015    153000000.00    1609223624.00   \n",
       "4      678815482  2048359754         2018    150000000.00    1598359754.00   \n",
       "\n",
       "   releaseMonth releaseSeason  \n",
       "0             4          None  \n",
       "1             5          None  \n",
       "2             4          None  \n",
       "3            12          None  \n",
       "4             4          None  "
      ]
     },
     "execution_count": 382,
     "metadata": {},
     "output_type": "execute_result"
    }
   ],
   "source": [
    "df.head()"
   ]
  },
  {
   "cell_type": "code",
   "execution_count": null,
   "metadata": {},
   "outputs": [],
   "source": []
  }
 ],
 "metadata": {
  "kernelspec": {
   "display_name": "Python 3",
   "language": "python",
   "name": "python3"
  },
  "language_info": {
   "codemirror_mode": {
    "name": "ipython",
    "version": 3
   },
   "file_extension": ".py",
   "mimetype": "text/x-python",
   "name": "python",
   "nbconvert_exporter": "python",
   "pygments_lexer": "ipython3",
   "version": "3.7.4"
  }
 },
 "nbformat": 4,
 "nbformat_minor": 2
}
