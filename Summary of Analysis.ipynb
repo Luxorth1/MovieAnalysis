{
 "cells": [
  {
   "cell_type": "markdown",
   "metadata": {},
   "source": [
    "# Table of Contents"
   ]
  },
  {
   "cell_type": "markdown",
   "metadata": {},
   "source": [
    "## Introduction:\n",
    "This projects was aimed at conducting an analysis of movie industry data. By using numerous Data Science techniques, such as Web Scraping, Data Manipulation, and visualization a number of questions will be answered to assist the business decision process.\n",
    "\n",
    "![](img/data_science_process.png)\n",
    "\n",
    "The above image outlines the process taken for this project. Below we will outline each step and how they were utilized in this analysis.\n",
    "\n",
    "## Business Understanding\n",
    "\n",
    "This portion was potentially the most difficult, it took alot of time to aggregate information regarding the industry. The movie industry, as public as it seems, is very cryptic when it comes to learning about Hollywood. \n",
    "\n",
    "![](img/business_understanding.png)\n",
    "\n",
    "## Data Mining\n",
    "\n",
    "This process was utilized to obtain cost data via web scraping, and utilizing datasets provided from IMDb.\n",
    "\n",
    "[Link to Notebook](Web_Scraping.ipynb)\n",
    "\n",
    "![](img/data_mining.png)\n",
    "\n",
    "## Data Cleaning\n",
    "\n",
    "The cleaning portion was easily the most time consuming portion of this project. There was a large amount of empty, and placeholder values that needed to be removed. There was a large amount of data cleaning conducted [here](Data_Cleaning.ipynb) \n",
    "\n",
    "![](img/Data_Cleaning_Checklist.png)\n",
    "\n",
    "## Data Exploration and Visualization\n",
    "\n",
    "These two steps were included with eachother in the analysis, as this was not a focused statisical analysis that would need additional explortion outside of direct comparison. \n",
    "\n",
    "[Link to Notebook](Data_Visualization.ipynb)\n",
    "\n",
    "# Conclusion \n",
    "\n",
    "The conclusion of this project will be compiled into a Business presentation."
   ]
  }
 ],
 "metadata": {
  "kernelspec": {
   "display_name": "Python 3",
   "language": "python",
   "name": "python3"
  },
  "language_info": {
   "codemirror_mode": {
    "name": "ipython",
    "version": 3
   },
   "file_extension": ".py",
   "mimetype": "text/x-python",
   "name": "python",
   "nbconvert_exporter": "python",
   "pygments_lexer": "ipython3",
   "version": "3.7.4"
  }
 },
 "nbformat": 4,
 "nbformat_minor": 2
}
